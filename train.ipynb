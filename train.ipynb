{
 "cells": [
  {
   "cell_type": "code",
   "execution_count": null,
   "id": "a676db5b",
   "metadata": {},
   "outputs": [],
   "source": [
    "# importing libraries\n",
    "import nltk\n",
    "from nltk.stem import WordNetLemmatizer\n",
    "lemmatizer = WordNetLemmatizer()\n",
    "import json\n",
    "import pickle\n",
    "import numpy as np\n",
    "from keras.models import Sequential\n",
    "from keras.layers import Dense, Activation, Dropout\n",
    "from keras.optimizers import SGD\n",
    "import random"
   ]
  },
  {
   "cell_type": "code",
   "execution_count": 3,
   "id": "baf3af08",
   "metadata": {},
   "outputs": [
    {
     "name": "stderr",
     "output_type": "stream",
     "text": [
      "[nltk_data] Downloading package punkt to C:\\Users\\shreya s\n",
      "[nltk_data]     nalawade\\AppData\\Roaming\\nltk_data...\n",
      "[nltk_data]   Unzipping tokenizers\\punkt.zip.\n"
     ]
    },
    {
     "data": {
      "text/plain": [
       "True"
      ]
     },
     "execution_count": 3,
     "metadata": {},
     "output_type": "execute_result"
    }
   ],
   "source": [
    "nltk.download('punkt')"
   ]
  },
  {
   "cell_type": "code",
   "execution_count": 5,
   "id": "ecacf33b",
   "metadata": {},
   "outputs": [
    {
     "name": "stderr",
     "output_type": "stream",
     "text": [
      "[nltk_data] Downloading package wordnet to C:\\Users\\shreya s\n",
      "[nltk_data]     nalawade\\AppData\\Roaming\\nltk_data...\n"
     ]
    },
    {
     "data": {
      "text/plain": [
       "True"
      ]
     },
     "execution_count": 5,
     "metadata": {},
     "output_type": "execute_result"
    }
   ],
   "source": [
    "nltk.download('wordnet')"
   ]
  },
  {
   "cell_type": "code",
   "execution_count": 6,
   "id": "47a9feed",
   "metadata": {},
   "outputs": [
    {
     "name": "stdout",
     "output_type": "stream",
     "text": [
      "283 documents\n",
      "129 classes ['What are the types of depression?', 'about', 'afternoon', 'anxious', 'ask', 'at what age does anxiety peak?', 'can lack of sleep make you feel sad?', 'can low blood sugar cause suicidal thoughts?', 'casual', 'creation', 'death', 'default', 'depressed', 'do we control our thoughts?', 'does oversleeping cause depression?', 'done', 'evening', 'fact-1', 'fact-10', 'fact-11', 'fact-12', 'fact-13', 'fact-14', 'fact-15', 'fact-16', 'fact-17', 'fact-18', 'fact-19', 'fact-2', 'fact-20', 'fact-21', 'fact-22', 'fact-23', 'fact-24', 'fact-25', 'fact-26', 'fact-27', 'fact-28', 'fact-29', 'fact-3', 'fact-30', 'fact-31', 'fact-32', 'fact-5', 'fact-6', 'fact-7', 'fact-8', 'fact-9', 'friends', 'goodbye', 'greeting', 'happy', 'hate-me', 'hate-you', 'help', 'how can we reduce anxiety?', 'how does depression affect the world?', 'how long can anxiety last?', 'how many thoughts a day do we have?', 'i am a victim of bullying', 'i am afraid i will fail again', 'i am afraid to file a case against bullying', 'i am feeling anxious lately.', 'i am feeling stressed lately', 'i am good for nothing!', 'i am good for nothing.', 'i am lonely!', 'i am sad', 'i am stressed out', \"i can't do this anymore\", 'i feel i have let my parents down', 'i hate losing.', 'i hate myself!', 'i let everyojokne down', 'i think i am ugly!', \"i think i'm losing my mind\", 'i want a break', 'i want to kill myself', 'i want to leave the cou ntry and run away', 'i will never succeed in life', \"i wish i could've been a winner\", 'i wish i was better than them', 'i wish to quit', 'is depression a side effect of diabetes?', 'is school a cause of depression?', 'jamila-useful', 'jokes', 'learn-mental-health', 'learn-more', 'location', 'meditation', 'mental-health-fact', 'morning', 'my time has come', 'neutral-response', 'night', 'no one likes me!', 'no-approach', 'no-response', 'not-talking', 'problem', 'repeat', 'sad', 'scared', 'skill', 'sleep', 'something-else', 'stressed', 'stupid', 'suicide', 'thanks', 'understand', 'user-advice', 'user-agree', 'user-meditation', 'what are the causes of depression?', 'what are the stages of anxiety?', 'what are the top causes of depression?', 'what is depression?', 'what is the 3 3 3 rule for anxiety?', 'what is the biological cause of depression?', 'what is the meaning of anxiety and depression?', 'which age group has the highest rate of depression?', 'which country has the highest rate of depression?', 'which country has the lowest rate of depression?', 'which race has the highest rate of depression?', 'why is anxiety bad for you?', 'worthless', 'wrong']\n",
      "355 unique lemmatized words [\"'ll\", \"'m\", \"'re\", \"'s\", \"'ve\", ',', '.', '3', 'a', 'about', 'absolutely', 'advice', 'affect', 'afraid', 'afternoon', 'again', 'against', 'age', 'all', 'alot', 'already', 'am', 'and', 'another', 'answer', 'anxiety', 'anxious', 'any', 'anymore', 'anyone', 'anything', 'appears', 'approaching', 'are', 'ask', 'at', 'au', 'available', 'away', 'awful', 'bad', 'be', 'because', 'become', 'been', 'before', 'better', 'between', 'biological', 'blood', 'bonjour', 'boyfriend', 'break', 'bring', 'brother', 'bullying', 'burned', 'bye', 'ca', 'call', 'can', 'case', 'cause', 'cheerful', 'child', 'come', 'commit', 'connection', 'continue', 'control', 'cou', 'could', 'country', 'crazy', 'created', 'cure', 'dad', 'day', 'define', 'depressed', 'depression', 'deserve', 'diabetes', 'did', 'die', 'died', 'difference', 'different', 'disorder', 'do', 'doe', 'down', 'dumb', 'effect', 'else', 'empty', 'enough', 'evening', 'everyojokne', 'exam', 'fact', 'fail', 'family', 'fare', 'feel', 'feeling', 'few', 'file', 'financial', 'find', 'fine', 'focus', 'for', 'friend', 'from', 'get', 'girlfriend', 'give', 'go', 'going', 'good', 'goodbye', 'great', 'group', 'guess', 'ha', 'had', 'hand', 'happy', 'hate', 'have', 'hay', 'health', 'hello', 'help', 'helpful', 'hey', 'hi', 'highest', 'hmmm', 'hola', 'how', 'howdy', 'i', 'if', 'ill', 'illness', 'importance', 'important', 'in', 'insominia', 'insomnia', 'interested', 'involved', 'is', 'it', 'joke', 'just', 'k', 'kill', 'killing', 'know', 'lack', 'last', 'lately', 'later', 'learn', 'learning', 'leave', 'let', 'life', 'like', 'live', 'location', 'lonely', 'long', 'losing', 'low', 'lowest', 'made', 'maintain', 'make', 'many', 'me', 'mean', 'meaning', 'medication', 'meditation', 'mental', 'mentally', 'mentioned', 'mind', 'mom', 'money', 'more', 'morning', 'much', 'my', 'myself', \"n't\", 'name', 'need', 'never', 'new', 'nice', 'night', 'no', 'nobody', 'not', 'nothing', 'now', 'ntry', 'of', 'oh', 'ok', 'okay', 'on', 'one', 'open', 'option', 'or', 'our', 'out', 'oversleeping', 'parent', 'passed', 'past', 'peak', 'people', 'please', 'possibly', 'practicing', 'prepared', 'prevent', 'probably', 'problem', 'professional', 'proper', 'quit', 'race', 'rate', 'really', 'recover', 'reduce', 'relationship', 'repeating', 'response', 'revoir', 'right', 'robot', 'rule', 'run', 'sad', 'sadness', 'said', 'sasa', 'say', 'saying', 'sayonara', 'scared', 'school', 'see', 'seem', 'sense', 'should', 'shut', 'side', 'sign', 'sister', 'sleep', 'slept', 'so', 'social', 'some', 'someone', 'something', 'sound', 'stage', 'starting', 'stay', 'still', 'stress', 'stressed', 'stuck', 'stupid', 'succeed', 'suffering', 'sugar', 'suicidal', 'suicide', 'support', 'sure', 'symptom', 'take', 'talk', 'tell', 'than', 'thank', 'thanks', 'that', 'the', 'thee', 'them', 'then', 'therapist', 'therapy', 'there', 'think', 'this', 'thought', 'through', 'time', 'to', 'today', 'told', 'top', 'treatment', 'trust', 'type', 'ugly', 'understand', 'understands', 'unwell', 'up', 'useful', 'useless', 'very', 'victim', 'wa', 'want', 'warning', 'way', 'we', 'well', 'were', 'what', 'whatever', 'where', 'which', 'who', 'why', 'will', 'winner', 'wish', 'with', 'world', 'worried', 'worthless', 'would', 'wrong', 'yeah', 'yes', 'you', 'your', 'yourself']\n"
     ]
    }
   ],
   "source": [
    "words=[]\n",
    "classes = []\n",
    "documents = []\n",
    "ignore_words = ['?', '!']\n",
    "data_file = open('intents.json').read()\n",
    "intents = json.loads(data_file)\n",
    "\n",
    "for intent in intents['intents']:\n",
    "    for pattern in intent['patterns']:\n",
    "        #tokenize each word\n",
    "        w = nltk.word_tokenize(pattern)\n",
    "        words.extend(w)\n",
    "        #add documents in the corpus\n",
    "        documents.append((w, intent['tag']))\n",
    "        # add to our classes list\n",
    "        if intent['tag'] not in classes:\n",
    "            classes.append(intent['tag'])\n",
    "# lemmatize and lower each word and remove duplicates\n",
    "words = [lemmatizer.lemmatize(w.lower()) for w in words if w not in ignore_words]\n",
    "words = sorted(list(set(words)))\n",
    "# sort classes\n",
    "classes = sorted(list(set(classes)))\n",
    "# documents = combination between patterns and intents\n",
    "print (len(documents), \"documents\")\n",
    "# classes = intents\n",
    "print (len(classes), \"classes\", classes)\n",
    "# words = all words, vocabulary\n",
    "print (len(words), \"unique lemmatized words\", words)"
   ]
  },
  {
   "cell_type": "code",
   "execution_count": null,
   "id": "e18103f9",
   "metadata": {},
   "outputs": [],
   "source": []
  }
 ],
 "metadata": {
  "kernelspec": {
   "display_name": "Python 3 (ipykernel)",
   "language": "python",
   "name": "python3"
  },
  "language_info": {
   "codemirror_mode": {
    "name": "ipython",
    "version": 3
   },
   "file_extension": ".py",
   "mimetype": "text/x-python",
   "name": "python",
   "nbconvert_exporter": "python",
   "pygments_lexer": "ipython3",
   "version": "3.11.4"
  }
 },
 "nbformat": 4,
 "nbformat_minor": 5
}
